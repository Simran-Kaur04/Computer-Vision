{
 "cells": [
  {
   "cell_type": "markdown",
   "id": "da4301dd",
   "metadata": {},
   "source": [
    "## Advanced Computer Vision\n",
    "\n",
    "### Exercise sheet 11"
   ]
  },
  {
   "cell_type": "markdown",
   "id": "ce6f041a",
   "metadata": {},
   "source": [
    "### Task 1 – A graph neural network forward pass"
   ]
  },
  {
   "cell_type": "code",
   "execution_count": 1,
   "id": "fc2e6f04",
   "metadata": {},
   "outputs": [],
   "source": [
    "import numpy as np"
   ]
  },
  {
   "cell_type": "code",
   "execution_count": 11,
   "id": "453d620e",
   "metadata": {},
   "outputs": [],
   "source": [
    "h_A0 = np.array([[2], [1]])\n",
    "h_B0 = np.array([[.03], [2]])\n",
    "h_C0 = np.array([[4], [1.75]])\n",
    "h_D0 = np.array([[-6.78], [1.02]])\n",
    "h_E0 = np.array([[-1], [1]])"
   ]
  },
  {
   "cell_type": "code",
   "execution_count": 13,
   "id": "f8978ab0",
   "metadata": {},
   "outputs": [],
   "source": [
    "W0 = np.array([[1, 2.01], [2.3, 3.4], [1.7, -0.91]])\n",
    "B0 = np.array([[-1.13, 0.05], [3.46, 1.14], [-2.72, 0.902]])"
   ]
  },
  {
   "cell_type": "code",
   "execution_count": 8,
   "id": "3aaabf92",
   "metadata": {},
   "outputs": [],
   "source": [
    "def adjacency_matrix():\n",
    "    # Define the number of nodes\n",
    "    num_nodes = 5\n",
    "\n",
    "    # Initialize the adjacency matrix with zeros\n",
    "    A = np.zeros((num_nodes, num_nodes))\n",
    "\n",
    "    # Define the edges in the form of node pairs\n",
    "    edges = [(0, 3), (0, 4), (1, 2), (2, 1), (3, 0), (3, 4), (4, 0), (4, 3)]\n",
    "\n",
    "    # Update the entries in the adjacency matrix to 1 for each edge\n",
    "    for i, j in edges:\n",
    "        A[i][j] = 1\n",
    "\n",
    "    return A\n"
   ]
  },
  {
   "cell_type": "code",
   "execution_count": 9,
   "id": "c08ae78f",
   "metadata": {},
   "outputs": [
    {
     "data": {
      "text/plain": [
       "array([[0., 0., 0., 1., 1.],\n",
       "       [0., 0., 1., 0., 0.],\n",
       "       [0., 1., 0., 0., 0.],\n",
       "       [1., 0., 0., 0., 1.],\n",
       "       [1., 0., 0., 1., 0.]])"
      ]
     },
     "execution_count": 9,
     "metadata": {},
     "output_type": "execute_result"
    }
   ],
   "source": [
    "adj = adjacency_matrix()\n",
    "adj"
   ]
  },
  {
   "cell_type": "code",
   "execution_count": 82,
   "id": "c2be292e",
   "metadata": {},
   "outputs": [],
   "source": [
    "def forwardpass(h_A0, h_B0, h_C0, h_D0, h_E0, B0, W0):\n",
    "    node_features = np.array([h_A0, h_B0, h_C0, h_D0, h_E0])\n",
    "    emb = []\n",
    "    for node in range(node_features.shape[0]):\n",
    "        nbhd = 1/np.sum(adj[node])*(np.sum(np.multiply(adj[node].T, node_features.T)[0], axis = 1))\n",
    "        emb.append(np.maximum(np.dot(W0, nbhd.reshape(nbhd.shape[0], -1)) + np.dot(B0, node_features[node]), 0))\n",
    "    return emb"
   ]
  },
  {
   "cell_type": "code",
   "execution_count": 87,
   "id": "d6da03d4",
   "metadata": {},
   "outputs": [],
   "source": [
    "h_A1, h_B1, h_C1, h_D1, h_E1 = forwardpass(h_A0, h_B0, h_C0, h_D0, h_E0, B0, W0)"
   ]
  },
  {
   "cell_type": "code",
   "execution_count": 88,
   "id": "32528053",
   "metadata": {},
   "outputs": [
    {
     "data": {
      "text/plain": [
       "array([[0.   ],\n",
       "       [2.547],\n",
       "       [0.   ]])"
      ]
     },
     "execution_count": 88,
     "metadata": {},
     "output_type": "execute_result"
    }
   ],
   "source": [
    "h_A1"
   ]
  },
  {
   "cell_type": "markdown",
   "id": "c524b923",
   "metadata": {},
   "source": [
    "### Task 2 – A graph neural network with different aggregation functions"
   ]
  },
  {
   "cell_type": "code",
   "execution_count": 84,
   "id": "f9b8c599",
   "metadata": {},
   "outputs": [],
   "source": [
    "W1 = np.array([[1, 1, 0], [0, 1, -1], [-1, 0, 1]])\n",
    "B1 = np.array([[0, -1, 0], [1, 0, 1], [0, -1, 1]])"
   ]
  },
  {
   "cell_type": "code",
   "execution_count": 98,
   "id": "f1026e98",
   "metadata": {},
   "outputs": [],
   "source": [
    "def forwardpass2(h_A1, h_B1, h_C1, h_D1, h_E1, B1, W1):\n",
    "    node_features = np.array([h_A1, h_B1, h_C1, h_D1, h_E1])\n",
    "    emb = []\n",
    "    for l in range(1, 6):\n",
    "        print(f'--------------Layer {l}---------------------\\n')\n",
    "        if l == 1:\n",
    "            for node in range(node_features.shape[0]):\n",
    "                print(f'<<<< Node {node} >>>>')\n",
    "                nbhd = np.sum(np.multiply(adj[node].T, node_features.T)[0], axis = 1)\n",
    "                emb.append(np.maximum(np.dot(W1, nbhd.reshape(nbhd.shape[0], -1)) + np.dot(B1, node_features[node]), 0))\n",
    "                print(f'{emb[node]}')\n",
    "        else:\n",
    "            h_A1, h_B1, h_C1, h_D1, h_E1 = emb\n",
    "            node_features = np.array([h_A1, h_B1, h_C1, h_D1, h_E1])\n",
    "            W2 = np.dot(W1, W1.T)\n",
    "            B2 = np.dot(B1, B1.T)\n",
    "            emb = []\n",
    "            for node in range(node_features.shape[0]):\n",
    "                print(f'<<<< Node {node} >>>>')\n",
    "                nbhd = np.sum(np.multiply(adj[node].T, node_features.T)[0], axis = 1)\n",
    "                emb.append(np.maximum(np.dot(W2, nbhd.reshape(nbhd.shape[0], -1)) + np.dot(B2, node_features[node]), 0))\n",
    "                print(f'{emb[node]}')\n",
    "            W1 = W2\n",
    "            B1 = B2\n",
    "    return emb"
   ]
  },
  {
   "cell_type": "code",
   "execution_count": 99,
   "id": "5b5bdec2",
   "metadata": {
    "scrolled": false
   },
   "outputs": [
    {
     "name": "stdout",
     "output_type": "stream",
     "text": [
      "--------------Layer 1---------------------\n",
      "\n",
      "<<<< Node 0 >>>>\n",
      "[[8.4955 ]\n",
      " [0.     ]\n",
      " [5.71214]]\n",
      "<<<< Node 1 >>>>\n",
      "[[ 5.1702]\n",
      " [37.2175]\n",
      " [ 0.    ]]\n",
      "<<<< Node 2 >>>>\n",
      "[[ 2.4134]\n",
      " [10.6039]\n",
      " [ 0.    ]]\n",
      "<<<< Node 3 >>>>\n",
      "[[ 3.3671 ]\n",
      " [32.07104]\n",
      " [18.48154]]\n",
      "<<<< Node 4 >>>>\n",
      "[[12.7694 ]\n",
      " [ 0.     ]\n",
      " [ 9.07924]]\n",
      "--------------Layer 2---------------------\n",
      "\n",
      "<<<< Node 0 >>>>\n",
      "[[50.9909 ]\n",
      " [58.42994]\n",
      " [26.8338 ]]\n",
      "<<<< Node 1 >>>>\n",
      "[[20.6009]\n",
      " [98.0562]\n",
      " [29.3704]]\n",
      "<<<< Node 2 >>>>\n",
      "[[ 49.9713]\n",
      " [100.813 ]\n",
      " [  0.    ]]\n",
      "<<<< Node 3 >>>>\n",
      "[[49.58706]\n",
      " [89.09714]\n",
      " [80.71908]]\n",
      "<<<< Node 4 >>>>\n",
      "[[53.4512 ]\n",
      " [60.89024]\n",
      " [35.3816 ]]\n",
      "--------------Layer 3---------------------\n",
      "\n",
      "<<<< Node 0 >>>>\n",
      "[[1028.5762 ]\n",
      " [1285.08798]\n",
      " [   0.     ]]\n",
      "<<<< Node 1 >>>>\n",
      "[[1031.262]\n",
      " [1483.098]\n",
      " [   0.   ]]\n",
      "<<<< Node 2 >>>>\n",
      "[[ 667.79  ]\n",
      " [1098.526 ]\n",
      " [ 136.1028]]\n",
      "<<<< Node 3 >>>>\n",
      "[[1342.605  ]\n",
      " [1745.00366]\n",
      " [ 243.94522]]\n",
      "<<<< Node 4 >>>>\n",
      "[[1077.2762 ]\n",
      " [1349.71668]\n",
      " [  20.99624]]\n",
      "--------------Layer 4---------------------\n",
      "\n",
      "<<<< Node 0 >>>>\n",
      "[[487457.72642]\n",
      " [522832.4701 ]\n",
      " [     0.     ]]\n",
      "<<<< Node 1 >>>>\n",
      "[[181852.442]\n",
      " [221550.742]\n",
      " [     0.   ]]\n",
      "<<<< Node 2 >>>>\n",
      "[[248783.7944]\n",
      " [280426.6316]\n",
      " [     0.    ]]\n",
      "<<<< Node 3 >>>>\n",
      "[[462059.0278 ]\n",
      " [514071.04842]\n",
      " [     0.     ]]\n",
      "<<<< Node 4 >>>>\n",
      "[[482058.40734]\n",
      " [519546.11098]\n",
      " [     0.     ]]\n",
      "--------------Layer 5---------------------\n",
      "\n",
      "<<<< Node 0 >>>>\n",
      "[[4.51025784e+10]\n",
      " [4.66307511e+10]\n",
      " [0.00000000e+00]]\n",
      "<<<< Node 1 >>>>\n",
      "[[1.23320054e+10]\n",
      " [1.29538919e+10]\n",
      " [0.00000000e+00]]\n",
      "<<<< Node 2 >>>>\n",
      "[[9.81355886e+09]\n",
      " [1.06200386e+10]\n",
      " [0.00000000e+00]]\n",
      "<<<< Node 3 >>>>\n",
      "[[4.57939198e+10]\n",
      " [4.72785668e+10]\n",
      " [0.00000000e+00]]\n",
      "<<<< Node 4 >>>>\n",
      "[[4.52772604e+10]\n",
      " [4.67933996e+10]\n",
      " [0.00000000e+00]]\n"
     ]
    },
    {
     "data": {
      "text/plain": [
       "[array([[4.51025784e+10],\n",
       "        [4.66307511e+10],\n",
       "        [0.00000000e+00]]),\n",
       " array([[1.23320054e+10],\n",
       "        [1.29538919e+10],\n",
       "        [0.00000000e+00]]),\n",
       " array([[9.81355886e+09],\n",
       "        [1.06200386e+10],\n",
       "        [0.00000000e+00]]),\n",
       " array([[4.57939198e+10],\n",
       "        [4.72785668e+10],\n",
       "        [0.00000000e+00]]),\n",
       " array([[4.52772604e+10],\n",
       "        [4.67933996e+10],\n",
       "        [0.00000000e+00]])]"
      ]
     },
     "execution_count": 99,
     "metadata": {},
     "output_type": "execute_result"
    }
   ],
   "source": [
    "forwardpass2(h_A1, h_B1, h_C1, h_D1, h_E1, B1, W1)"
   ]
  },
  {
   "cell_type": "code",
   "execution_count": null,
   "id": "9829f806",
   "metadata": {},
   "outputs": [],
   "source": []
  }
 ],
 "metadata": {
  "kernelspec": {
   "display_name": "Python 3 (ipykernel)",
   "language": "python",
   "name": "python3"
  },
  "language_info": {
   "codemirror_mode": {
    "name": "ipython",
    "version": 3
   },
   "file_extension": ".py",
   "mimetype": "text/x-python",
   "name": "python",
   "nbconvert_exporter": "python",
   "pygments_lexer": "ipython3",
   "version": "3.9.7"
  }
 },
 "nbformat": 4,
 "nbformat_minor": 5
}
